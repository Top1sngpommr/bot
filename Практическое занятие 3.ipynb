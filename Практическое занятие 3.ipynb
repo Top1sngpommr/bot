{
 "cells": [
  {
   "cell_type": "markdown",
   "source": [
    "## Практическое занятие по теме 3"
   ],
   "metadata": {}
  },
  {
   "cell_type": "markdown",
   "source": [
    "<div class=\"alert alert-block alert-success\">\r\n",
    "</b> ФИО, группа: </b> Пискалов Павел Германович\r\n",
    "</div>"
   ],
   "metadata": {}
  },
  {
   "cell_type": "markdown",
   "source": [
    "### Ответьте на следующие вопросы:"
   ],
   "metadata": {}
  },
  {
   "cell_type": "markdown",
   "source": [
    "### Часть 1. Функции"
   ],
   "metadata": {}
  },
  {
   "cell_type": "markdown",
   "source": [
    "<div class=\"alert alert-block alert-warning\">\n",
    "<b> 1. Посчитайте квадрат 20. Для этого вызовите функцию square для 20 и запишите результат в переменную square_result.</b>\n",
    "</div>"
   ],
   "metadata": {}
  },
  {
   "cell_type": "code",
   "execution_count": 2,
   "source": [
    "def square(x):\r\n",
    "    return x ** 2\r\n",
    "square_result = square(20)\r\n",
    "print(square_result)"
   ],
   "outputs": [
    {
     "output_type": "stream",
     "name": "stdout",
     "text": [
      "400\n"
     ]
    }
   ],
   "metadata": {}
  },
  {
   "cell_type": "markdown",
   "source": [
    "<div class=\"alert alert-block alert-warning\">\n",
    "<b> 2.Исправьте этот код: дополните функцию sum_2, чтобы она принимала аргументы x и y, а потом возвращала их сумму. Затем вызовите sum_2 для 42 и 73 и выведите на экран полученный результат\n",
    "</b>\n",
    "</div>"
   ],
   "metadata": {}
  },
  {
   "cell_type": "code",
   "execution_count": 3,
   "source": [
    "def sum_2(x, y):\r\n",
    "    result = x + y\r\n",
    "    return result\r\n",
    "print(sum_2(42, 73))"
   ],
   "outputs": [
    {
     "output_type": "stream",
     "name": "stdout",
     "text": [
      "115\n"
     ]
    }
   ],
   "metadata": {}
  },
  {
   "cell_type": "markdown",
   "source": [
    "<div class=\"alert alert-block alert-warning\">\n",
    "<b>3. Напишите функцию power, которая возводит первый аргумент в степень второго аргумента. Например, power(2, 3) должен вернуть 8, а power(4, 2) - 16 </b>\n",
    "</div>"
   ],
   "metadata": {}
  },
  {
   "cell_type": "code",
   "execution_count": 4,
   "source": [
    "def power(x, y):\r\n",
    "    return x ** y\r\n",
    "print(power(4,2))"
   ],
   "outputs": [
    {
     "output_type": "stream",
     "name": "stdout",
     "text": [
      "16\n"
     ]
    }
   ],
   "metadata": {}
  },
  {
   "cell_type": "markdown",
   "source": [
    "<div class=\"alert alert-block alert-warning\">\r\n",
    "<b>4. Постройте функцию get_median, которая принимает на вход список чисел и возвращает медиану, например, для этого списка.\r\n",
    "\r\n",
    "get_median([5, 2, 1, 3, 4]) должен вернуть 3\r\n",
    "get_median([3, 3, 7, 9]) должен вернуть 5</b>\r\n",
    "</div>"
   ],
   "metadata": {}
  },
  {
   "cell_type": "code",
   "execution_count": 21,
   "source": [
    "a = [5, 2, 1, 3, 4]\r\n",
    "b = [3, 3, 7, 9]\r\n",
    "# import numpy\r\n",
    "\r\n",
    "# def get_median(x):\r\n",
    "#     return numpy.median(x)\r\n",
    "# print(get_median(b))\r\n",
    "def get_median(x):\r\n",
    "    x = sorted(x)\r\n",
    "    if len(x) % 2 == 0:\r\n",
    "        k = int(( x[len(x)//2 - 1] + x[len(x)//2] )/ 2)\r\n",
    "    else:\r\n",
    "        k = int(x[len(x)//2])\r\n",
    "    return k\r\n",
    "print(get_median(a), get_median(b))"
   ],
   "outputs": [
    {
     "output_type": "stream",
     "name": "stdout",
     "text": [
      "3 5\n"
     ]
    }
   ],
   "metadata": {}
  },
  {
   "cell_type": "markdown",
   "source": [
    "<div class=\"alert alert-block alert-warning\">\r\n",
    "<b> 5. Перепишите код ниже, определив функцию avg_orders(user_db), которая возвращает среднее число заказов по данным в базе. Затем выведите на экран результат вызова этой функции для user_db\r\n",
    "</b>\r\n",
    "</div>"
   ],
   "metadata": {}
  },
  {
   "cell_type": "code",
   "execution_count": 22,
   "source": [
    "user_db = [{'orders': 12}, {'orders': 30}, {'orders': 45}]\r\n",
    "\r\n",
    "# перепишите эту часть\r\n",
    "order_sum = sum([user['orders'] for user in user_db])\r\n",
    "orders_per_user = order_sum/len(user_db)\r\n",
    "print(orders_per_user)"
   ],
   "outputs": [
    {
     "output_type": "stream",
     "name": "stdout",
     "text": [
      "29.0\n"
     ]
    }
   ],
   "metadata": {}
  },
  {
   "cell_type": "code",
   "execution_count": 27,
   "source": [
    "def avg_orders(user_db):\r\n",
    "    order_sum = sum([user['orders'] for user in user_db])\r\n",
    "    orders_per_user = order_sum/len(user_db)\r\n",
    "    return (orders_per_user)\r\n",
    "\r\n",
    "avg_orders(user_db)"
   ],
   "outputs": [
    {
     "output_type": "execute_result",
     "data": {
      "text/plain": [
       "29.0"
      ]
     },
     "metadata": {},
     "execution_count": 27
    }
   ],
   "metadata": {}
  },
  {
   "cell_type": "markdown",
   "source": [
    "<div class=\"alert alert-block alert-warning\">\n",
    "<b>6. Определите функцию get_euro_rate, которая возвращает случайное число от 65 до 85. Перепишите to_euro из примера ниже, чтобы вместо постоянного exchange_rate 70 она использовала get_euro_rate</b>\n",
    "</div>"
   ],
   "metadata": {}
  },
  {
   "cell_type": "code",
   "execution_count": 30,
   "source": [
    "# добавьте функцию get_euro_rate\r\n",
    "import random\r\n",
    "\r\n",
    "def get_euro_rate():\r\n",
    "    return random.randint(65, 85)\r\n",
    "# используйте get_euro_rate в следующей функции\r\n",
    "def to_euro(price):  \r\n",
    "    exchange_rate = get_euro_rate()\r\n",
    "    rounded = round(price/exchange_rate, 2)  \r\n",
    "    return '€' + str(rounded)\r\n",
    "print(to_euro(100))"
   ],
   "outputs": [
    {
     "output_type": "stream",
     "name": "stdout",
     "text": [
      "€1.43\n"
     ]
    }
   ],
   "metadata": {}
  },
  {
   "cell_type": "code",
   "execution_count": null,
   "source": [],
   "outputs": [],
   "metadata": {}
  },
  {
   "cell_type": "markdown",
   "source": [
    "<div class=\"alert alert-block alert-warning\">\n",
    "<b>7. Пусть у нас есть список слов, и мы хотим получить длину каждого слова. Например, из списка [\"All\", \"my\", \"troubles\", \"seemed\", \"so\", \"far\", \"away\"] мы ожидаем получить список [3, 2, 8, 6, 2, 3, 4]\n",
    "\n",
    "Что нам поставить на месте пропуска, чтобы выполнялась эта операция?</b>\n",
    "</div>"
   ],
   "metadata": {}
  },
  {
   "cell_type": "code",
   "execution_count": 32,
   "source": [
    "word_sizes = list(map(len, [\"all\", \"you\", \"need\", \"is\", \"map\"]))\r\n",
    "print(word_sizes)"
   ],
   "outputs": [
    {
     "output_type": "stream",
     "name": "stdout",
     "text": [
      "[3, 3, 4, 2, 3]\n"
     ]
    }
   ],
   "metadata": {}
  },
  {
   "cell_type": "code",
   "execution_count": null,
   "source": [],
   "outputs": [],
   "metadata": {}
  },
  {
   "cell_type": "markdown",
   "source": [
    "<div class=\"alert alert-block alert-warning\">\n",
    "<b>8. При анализе данных бывает полезно \"подвинуть\" числа так, чтобы среднее значение было нулевым: так удобнее анализировать их распределение.\n",
    "\n",
    "Напишите выражение c map, которое из каждого элемента values вычитает среднее значение mean. Результат положите в переменную result</b>\n",
    "</div>"
   ],
   "metadata": {}
  },
  {
   "cell_type": "code",
   "execution_count": 35,
   "source": [
    "values = [4, 8, 15, 16, 23, 42]\r\n",
    "mean = 18\r\n",
    "\r\n",
    "result = list(map(lambda x: x - 18, values))\r\n",
    "print(result)"
   ],
   "outputs": [
    {
     "output_type": "stream",
     "name": "stdout",
     "text": [
      "[-14, -10, -3, -2, 5, 24]\n"
     ]
    }
   ],
   "metadata": {}
  },
  {
   "cell_type": "code",
   "execution_count": null,
   "source": [],
   "outputs": [],
   "metadata": {}
  },
  {
   "cell_type": "markdown",
   "source": [
    "<div class=\"alert alert-block alert-warning\">\n",
    "<b>9.Для заданных чисел values и среднего значения mean напишите такой filter, который оставляет только элементы больше среднего значения</b>\n",
    "</div>"
   ],
   "metadata": {}
  },
  {
   "cell_type": "code",
   "execution_count": 38,
   "source": [
    "values = [4, 8, 15, 16, 23, 42]\r\n",
    "mean = 18\r\n",
    "\r\n",
    "result = list(filter(lambda x: x > mean, values))\r\n",
    "result"
   ],
   "outputs": [
    {
     "output_type": "execute_result",
     "data": {
      "text/plain": [
       "[23, 42]"
      ]
     },
     "metadata": {},
     "execution_count": 38
    }
   ],
   "metadata": {}
  },
  {
   "cell_type": "code",
   "execution_count": null,
   "source": [],
   "outputs": [],
   "metadata": {}
  },
  {
   "cell_type": "markdown",
   "source": [
    "<div class=\"alert alert-block alert-warning\">\n",
    "<b>10. Определите функцию normalize с тремя аргументами:\n",
    "\n",
    "numbers — список чисел;\n",
    "mean — число, необязательный аргумент, по умолчанию 0;\n",
    "std — число, необязательный аргумент, по умолчанию 1.\n",
    "Функция должна для каждого числа из numbers вычитать mean и полученный результат делить на std. На выходе ожидается список из этих новых чисел.\n",
    "    \n",
    "normalize([10, 20])\n",
    "\n",
    "=> [10, 20]\n",
    "\n",
    "normalize([10, 20], std=2)\n",
    "\n",
    "=> [5, 10]\n",
    "\n",
    "normalize([10, 20], mean=15)\n",
    "\n",
    "=> [-5, 5]</b>\n",
    "</div>"
   ],
   "metadata": {}
  },
  {
   "cell_type": "code",
   "execution_count": null,
   "source": [],
   "outputs": [],
   "metadata": {}
  },
  {
   "cell_type": "markdown",
   "source": [
    "<div class=\"alert alert-block alert-warning\">\n",
    "<b>11. Определите функцию sum_args, которая суммирует все свои аргументы. Например, sum_args(10, 15, -4) должна возвращать 21</b>\n",
    "</div>"
   ],
   "metadata": {}
  },
  {
   "cell_type": "code",
   "execution_count": null,
   "source": [],
   "outputs": [],
   "metadata": {}
  },
  {
   "cell_type": "markdown",
   "source": [
    "<div class=\"alert alert-block alert-warning\">\n",
    "<b>12. Определите функцию count_letters(sentence, average), которая считает количество букв в строке без учёта пробелов. У функции должен быть необязательный булевый аргумент average, который по умолчанию равен False. Если он равен True, то функция должна возвращать количество букв в среднем на слово.</b>\n",
    "</div>"
   ],
   "metadata": {}
  },
  {
   "cell_type": "code",
   "execution_count": null,
   "source": [
    "count_letters(\"Beep boop\") # => 8\r\n",
    "count_letters(\"Beep boop\", average=True) # => 4\r\n",
    "count_letters(\"I will build my own theme park\") # => 24\r\n",
    "count_letters(\"I will build my own theme park\", average=True) # => 3.429"
   ],
   "outputs": [],
   "metadata": {}
  },
  {
   "cell_type": "code",
   "execution_count": null,
   "source": [],
   "outputs": [],
   "metadata": {}
  },
  {
   "cell_type": "markdown",
   "source": [
    "<div class=\"alert alert-block alert-warning\">\n",
    "<b>13. Напишите функцию always(n), которая возвращает функцию, которая в свою очередь возвращает n. Например,</b>\n",
    "</div>"
   ],
   "metadata": {}
  },
  {
   "cell_type": "code",
   "execution_count": null,
   "source": [
    "five = always(5)\r\n",
    "five() # должно вернуть 5"
   ],
   "outputs": [],
   "metadata": {}
  },
  {
   "cell_type": "code",
   "execution_count": null,
   "source": [],
   "outputs": [],
   "metadata": {}
  },
  {
   "cell_type": "markdown",
   "source": [
    "<div class=\"alert alert-block alert-warning\">\n",
    "<b>14.Представьте, что сумма за пользование услугами такси складывается из\n",
    "базового тарифа в размере 4,00 долларов плюс 0,25 за каждые 140 м. поездки.\n",
    "Напишите функцию, принимающую в качестве единственного параметра\n",
    "расстояние поездки в километрах и возвращающую итоговую сумму опла-\n",
    "ты такси. В основной программе должен демонстрироваться результат\n",
    "вызова функции.</b>\n",
    "</div>"
   ],
   "metadata": {}
  },
  {
   "cell_type": "code",
   "execution_count": null,
   "source": [],
   "outputs": [],
   "metadata": {}
  },
  {
   "cell_type": "markdown",
   "source": [
    "<div class=\"alert alert-block alert-warning\">\n",
    "<b>15. Интернет-магазин предоставляет услугу экспресс-доставки для части\n",
    "своих товаров по цене $10,95 за первый товар в заказе и 2,95 доллара – за все\n",
    "последующие. Напишите функцию, принимающую в качестве единствен-\n",
    "ного параметра количество товаров в заказе и возвращающую общую\n",
    "сумму доставки. В основной программе должны производиться запрос\n",
    "количества\n",
    "позиций в заказе у пользователя и отображаться на экране\n",
    "сумма доставки.\n",
    "</b>\n",
    "</div>"
   ],
   "metadata": {}
  },
  {
   "cell_type": "code",
   "execution_count": null,
   "source": [],
   "outputs": [],
   "metadata": {}
  },
  {
   "cell_type": "markdown",
   "source": [
    "<div class=\"alert alert-block alert-warning\">\n",
    "<b>16.Такие слова, как первый, второй, третий, являются числительными. В дан-\n",
    "ном упражнении вам необходимо написать функцию, принимающую на\n",
    "вход в качестве единственного аргумента целое число и возвращающую\n",
    "строковое значение, содержащее соответствующее числительное (на английском\n",
    "языке). Ваша функция должна обрабатывать числа в диапазоне\n",
    "от 1 до 12. Если входящее значение выходит за границы этого диапазона,\n",
    "вывод должен оставаться пустым. В основной программе запустите цикл\n",
    "по натуральным числам от 1 до 12 и выведите на экран соответствующие\n",
    "им числительные. Ваша программа должна запускаться только в том слу-\n",
    "чае, если она не импортирована в виде модуля в другой файл.</b>\n",
    "</div>"
   ],
   "metadata": {}
  },
  {
   "cell_type": "code",
   "execution_count": null,
   "source": [],
   "outputs": [],
   "metadata": {}
  },
  {
   "cell_type": "markdown",
   "source": [
    "__Итоговый ноутбук необходимо прикрепить в ЛКС к заданию. Необходимо, чтобы ноутбук выполнялся дним запуском без ошибок__"
   ],
   "metadata": {}
  }
 ],
 "metadata": {
  "kernelspec": {
   "name": "python3",
   "display_name": "Python 3.9.13 64-bit (windows store)"
  },
  "language_info": {
   "codemirror_mode": {
    "name": "ipython",
    "version": 3
   },
   "file_extension": ".py",
   "mimetype": "text/x-python",
   "name": "python",
   "nbconvert_exporter": "python",
   "pygments_lexer": "ipython3",
   "version": "3.9.13"
  },
  "interpreter": {
   "hash": "10c76388abce628b3372a8f53d77d8d04dfa48c6620a29c4ab42d925b694d5f3"
  }
 },
 "nbformat": 4,
 "nbformat_minor": 5
}